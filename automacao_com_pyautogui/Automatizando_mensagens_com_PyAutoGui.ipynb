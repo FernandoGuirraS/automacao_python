{
 "cells": [
  {
   "cell_type": "markdown",
   "metadata": {},
   "source": [
    "# Automatização de mensagens"
   ]
  },
  {
   "cell_type": "markdown",
   "metadata": {},
   "source": [
    "Nesse notebook, vamos realizar a automatização de mensagens no **Gmail**, através das bibliotecas [*PyAutoGui*](https://pyautogui.readthedocs.io/en/latest/) e [*PyPerClip*](https://pypi.org/project/pyperclip/), no intuito de visitar um endereço de uma pasta compartilhada do drive, realizar o download de uma planilha, realizar o cálculo e enviar para um email.\n",
    "\n",
    "Primeiro, vamos realizar comandos básicos de atalhos do teclado para o navegador, no intuito de ensinar cada comando da biblioteca. Assim, vamos acessar, de maneira automatizada, o Gmail.\n",
    "\n",
    "A seguir, vamos clicar no botão \"Escrever\", para inserir os campos de *email, assunto e corpo do email.*\n",
    "\n",
    "A documentação para as bibliotecas pode ser acessar através de [PyAutoGui](https://pyautogui.readthedocs.io/en/latest/) e [PyPerClip](https://pypi.org/project/pyperclip/). Os principais comandos que serão utilizados serão:\n",
    "\n",
    "* **size**, da biblioteca PyAutoGui, para exibir o tamanho da tela;\n",
    "* **hotkey**, da biblioteca PyAutoGui, para simular comandos do teclado;\n",
    "* **write**, da biblioteca PyAutoGui, para escrever;\n",
    "* **press**, da biblioteca PyAutoGui, para simular pressionar uma tecla;\n",
    "* **position**, da biblioteca PyAutoGui, para exibir a posição do cursor do mouse;\n",
    "* **copy** da biblioteca PyPerClip, para copiar um texto;\n",
    "* **click** da biblioteca PyAutoGui, para simular o clique do mouse;\n",
    "\n",
    "\n",
    "Primeiro, vamos realizar o download das bibliotecas. Como o ambiente de acesso está sendo na nuvem, através do Google Colab, devemos iniciar essa linha de comando toda vez que executarmos o código, pois ao término da execução e fechamento da aba, todo o progresso é reiniciado. Se caso contrário, esse código estiver sendo executado no Jupyter Notebook, a célula de download da bibliteca pode ser executada apenas uma única vez."
   ]
  },
  {
   "cell_type": "markdown",
   "metadata": {},
   "source": [
    "## Download e Importação das bibliotecas"
   ]
  },
  {
   "cell_type": "code",
   "execution_count": 1,
   "metadata": {},
   "outputs": [],
   "source": [
    "# deve ser executada apenas uma unica vez para o ambiente baixar as bibliotecas para o kernel\n",
    "# download das bibliotecas do projeto\n",
    "# !pip install pyperclip\n",
    "# !pip install pyautogui"
   ]
  },
  {
   "cell_type": "code",
   "execution_count": 2,
   "metadata": {},
   "outputs": [],
   "source": [
    "# importando as bibliotecas para a execução do codigo\n",
    "import pyautogui\n",
    "import pyperclip\n",
    "import time\n",
    "import pandas as pd"
   ]
  },
  {
   "cell_type": "markdown",
   "metadata": {},
   "source": [
    "## Automatização com Python"
   ]
  },
  {
   "cell_type": "markdown",
   "metadata": {},
   "source": [
    "Como cada computador possui um único tamanho de tela, vamos verificar qual o tamanho está sendo executado nesta execução do código."
   ]
  },
  {
   "cell_type": "markdown",
   "metadata": {},
   "source": [
    "### Tamanho do Monitor"
   ]
  },
  {
   "cell_type": "code",
   "execution_count": 3,
   "metadata": {},
   "outputs": [
    {
     "name": "stdout",
     "output_type": "stream",
     "text": [
      "Monitor: 1366 x 768\n"
     ]
    }
   ],
   "source": [
    "# obtendo o tamanho da tela\n",
    "largura, altura = pyautogui.size()\n",
    "print(\"Monitor: {} x {}\".format(largura, altura))"
   ]
  },
  {
   "cell_type": "markdown",
   "metadata": {},
   "source": [
    "A máquina onde está sendo feito e executado o código está em um computador de tela com tamanho $1366 \\times 768.$ Isso será crucial pois a posição do mouse será realizada em cima dos parâmetros de altura e largura da tela."
   ]
  },
  {
   "cell_type": "markdown",
   "metadata": {},
   "source": [
    "### Acessando site e realizando download de um arquivo"
   ]
  },
  {
   "cell_type": "markdown",
   "metadata": {},
   "source": [
    "Agora, vamos realizar a etapa inicial do projeto de automatização. Nosso intuito é abrir uma aba do navegador, colar um endereço para uma determinada página e assim seguir algumas ações. A página que estamos interessados em acessar é o **Gmail,** para escrever e enviar um email para um destinatário específico.\n",
    "\n",
    "**Obs.: Essa versão só será possível se o email já estiver logado automaticamente na máquina.** \n",
    "\n",
    "Primeiro, vamos fazer com que o código abra a aba do navegador e cole um link para navegação. Depois vamos navegar até a página do **Drive**, onde o arquivo xlsx está, e realizar o download.\n",
    "\n",
    "Ao utilizar a função *click*, é necessário passar a posição $x$ e $y$ do mouse. Mas, devido aos diferentes tamanhos de tela nos computadores, foi feita uma relação da posição real com o tamanho da tela do computador."
   ]
  },
  {
   "cell_type": "code",
   "execution_count": 4,
   "metadata": {},
   "outputs": [],
   "source": [
    "pyautogui.PAUSE =  1 # definindo uma pausa de 2 seg para cada comando do pyautogui\n",
    "\n",
    "# abrindo uma nova janela anônima, escrevendo endereço e acessando\n",
    "#pyautogui.hotkey(\"ctrl\", \"shift\", \"n\") -> abrir janela anonima mas o gmail não vai estar logado\n",
    "pyautogui.hotkey(\"ctrl\", \"t\")\n",
    "pyautogui.click(x = largura * 0.354, y = altura * 0.0625)\n",
    "pyautogui.write(\"https://docs.google.com/spreadsheets/d/1KPeP7RmgZfYoB8pUJ1JipAYq0U8X5sPS/edit?usp=sharing&ouid=100677716376606374765&rtpof=true&sd=true\", interval=0.03)\n",
    "pyautogui.press(\"enter\") \n",
    "time.sleep(10) # adicionando 10 seg parados para garantir o carregamento da pag\n",
    "\n",
    "# download de arquivo csv\n",
    "pyautogui.click(x = 0.0688 * largura, y = 0.151 * altura)\n",
    "pyautogui.moveTo(x = 0.147877 * largura, y = 0.513 * altura)\n",
    "pyautogui.click(x = 0.3887 * largura, y = 0.5195 * altura)\n",
    "time.sleep(5)"
   ]
  },
  {
   "cell_type": "markdown",
   "metadata": {},
   "source": [
    "Os dados mostrados abaixos são fictícios, representando a venda de produtos em lojas  em lojas localizadas em shoppings. O nosso objetivo é realizar o cálculo da quantidade de produtos vendidos e faturamento anual das vendas dos produtos de todas as lojas. Para isso, é necessário somar os valores das colunas `Quantidade` e `Valor Final`, representado pelo produto da quantidade e o valor unitário do produto."
   ]
  },
  {
   "cell_type": "code",
   "execution_count": 5,
   "metadata": {},
   "outputs": [
    {
     "data": {
      "text/html": [
       "<div>\n",
       "<style scoped>\n",
       "    .dataframe tbody tr th:only-of-type {\n",
       "        vertical-align: middle;\n",
       "    }\n",
       "\n",
       "    .dataframe tbody tr th {\n",
       "        vertical-align: top;\n",
       "    }\n",
       "\n",
       "    .dataframe thead th {\n",
       "        text-align: right;\n",
       "    }\n",
       "</style>\n",
       "<table border=\"1\" class=\"dataframe\">\n",
       "  <thead>\n",
       "    <tr style=\"text-align: right;\">\n",
       "      <th></th>\n",
       "      <th>Código Venda</th>\n",
       "      <th>Data</th>\n",
       "      <th>ID Loja</th>\n",
       "      <th>Produto</th>\n",
       "      <th>Quantidade</th>\n",
       "      <th>Valor Unitário</th>\n",
       "      <th>Valor Final</th>\n",
       "    </tr>\n",
       "  </thead>\n",
       "  <tbody>\n",
       "    <tr>\n",
       "      <th>0</th>\n",
       "      <td>65014</td>\n",
       "      <td>2019-12-01</td>\n",
       "      <td>Shopping Morumbi</td>\n",
       "      <td>Sunga Listrado</td>\n",
       "      <td>5</td>\n",
       "      <td>114</td>\n",
       "      <td>570</td>\n",
       "    </tr>\n",
       "    <tr>\n",
       "      <th>1</th>\n",
       "      <td>65014</td>\n",
       "      <td>2019-12-01</td>\n",
       "      <td>Shopping Morumbi</td>\n",
       "      <td>Casaco Listrado</td>\n",
       "      <td>1</td>\n",
       "      <td>269</td>\n",
       "      <td>269</td>\n",
       "    </tr>\n",
       "    <tr>\n",
       "      <th>2</th>\n",
       "      <td>65016</td>\n",
       "      <td>2019-12-01</td>\n",
       "      <td>Iguatemi Campinas</td>\n",
       "      <td>Sapato Listrado</td>\n",
       "      <td>2</td>\n",
       "      <td>363</td>\n",
       "      <td>726</td>\n",
       "    </tr>\n",
       "    <tr>\n",
       "      <th>3</th>\n",
       "      <td>65016</td>\n",
       "      <td>2019-12-01</td>\n",
       "      <td>Iguatemi Campinas</td>\n",
       "      <td>Casaco</td>\n",
       "      <td>1</td>\n",
       "      <td>250</td>\n",
       "      <td>250</td>\n",
       "    </tr>\n",
       "    <tr>\n",
       "      <th>4</th>\n",
       "      <td>65017</td>\n",
       "      <td>2019-12-01</td>\n",
       "      <td>Shopping SP Market</td>\n",
       "      <td>Gorro Liso</td>\n",
       "      <td>3</td>\n",
       "      <td>92</td>\n",
       "      <td>276</td>\n",
       "    </tr>\n",
       "    <tr>\n",
       "      <th>...</th>\n",
       "      <td>...</td>\n",
       "      <td>...</td>\n",
       "      <td>...</td>\n",
       "      <td>...</td>\n",
       "      <td>...</td>\n",
       "      <td>...</td>\n",
       "      <td>...</td>\n",
       "    </tr>\n",
       "    <tr>\n",
       "      <th>7084</th>\n",
       "      <td>69996</td>\n",
       "      <td>2019-12-26</td>\n",
       "      <td>Center Shopping Uberlândia</td>\n",
       "      <td>Short Listrado</td>\n",
       "      <td>2</td>\n",
       "      <td>102</td>\n",
       "      <td>204</td>\n",
       "    </tr>\n",
       "    <tr>\n",
       "      <th>7085</th>\n",
       "      <td>69996</td>\n",
       "      <td>2019-12-26</td>\n",
       "      <td>Center Shopping Uberlândia</td>\n",
       "      <td>Mochila</td>\n",
       "      <td>4</td>\n",
       "      <td>270</td>\n",
       "      <td>1080</td>\n",
       "    </tr>\n",
       "    <tr>\n",
       "      <th>7086</th>\n",
       "      <td>69996</td>\n",
       "      <td>2019-12-26</td>\n",
       "      <td>Center Shopping Uberlândia</td>\n",
       "      <td>Pulseira Estampa</td>\n",
       "      <td>1</td>\n",
       "      <td>87</td>\n",
       "      <td>87</td>\n",
       "    </tr>\n",
       "    <tr>\n",
       "      <th>7087</th>\n",
       "      <td>69997</td>\n",
       "      <td>2019-12-26</td>\n",
       "      <td>Ribeirão Shopping</td>\n",
       "      <td>Camisa Listrado</td>\n",
       "      <td>1</td>\n",
       "      <td>108</td>\n",
       "      <td>108</td>\n",
       "    </tr>\n",
       "    <tr>\n",
       "      <th>7088</th>\n",
       "      <td>69997</td>\n",
       "      <td>2019-12-26</td>\n",
       "      <td>Ribeirão Shopping</td>\n",
       "      <td>Short Linho</td>\n",
       "      <td>2</td>\n",
       "      <td>133</td>\n",
       "      <td>266</td>\n",
       "    </tr>\n",
       "  </tbody>\n",
       "</table>\n",
       "<p>7089 rows × 7 columns</p>\n",
       "</div>"
      ],
      "text/plain": [
       "      Código Venda       Data                     ID Loja           Produto  \\\n",
       "0            65014 2019-12-01            Shopping Morumbi    Sunga Listrado   \n",
       "1            65014 2019-12-01            Shopping Morumbi   Casaco Listrado   \n",
       "2            65016 2019-12-01           Iguatemi Campinas   Sapato Listrado   \n",
       "3            65016 2019-12-01           Iguatemi Campinas            Casaco   \n",
       "4            65017 2019-12-01          Shopping SP Market        Gorro Liso   \n",
       "...            ...        ...                         ...               ...   \n",
       "7084         69996 2019-12-26  Center Shopping Uberlândia    Short Listrado   \n",
       "7085         69996 2019-12-26  Center Shopping Uberlândia           Mochila   \n",
       "7086         69996 2019-12-26  Center Shopping Uberlândia  Pulseira Estampa   \n",
       "7087         69997 2019-12-26           Ribeirão Shopping   Camisa Listrado   \n",
       "7088         69997 2019-12-26           Ribeirão Shopping       Short Linho   \n",
       "\n",
       "      Quantidade  Valor Unitário  Valor Final  \n",
       "0              5             114          570  \n",
       "1              1             269          269  \n",
       "2              2             363          726  \n",
       "3              1             250          250  \n",
       "4              3              92          276  \n",
       "...          ...             ...          ...  \n",
       "7084           2             102          204  \n",
       "7085           4             270         1080  \n",
       "7086           1              87           87  \n",
       "7087           1             108          108  \n",
       "7088           2             133          266  \n",
       "\n",
       "[7089 rows x 7 columns]"
      ]
     },
     "metadata": {},
     "output_type": "display_data"
    }
   ],
   "source": [
    "# realizando análise do faturamento mensal\n",
    "dados = pd.read_excel(\"/home/particular/Downloads/Vendas - Dez.xlsx\")\n",
    "display(dados)\n",
    "faturamento = dados['Valor Final'].sum()\n",
    "quantidade = dados['Quantidade'].sum()"
   ]
  },
  {
   "cell_type": "markdown",
   "metadata": {},
   "source": [
    "### Gmail - Acessando, escrevendo mensagem e enviando "
   ]
  },
  {
   "cell_type": "markdown",
   "metadata": {},
   "source": [
    "Nessa etapa final, vamos automatizar o envio de um email, com as informações obtidas do conjunta de dados a fim de informar, por exemplo, um gestor da área ou gerente da empresa. Vamos acessar o gmail, escrever um email e enviar, para um destinatário definido e assunto. Isso tudo sem encostar no teclado, totalmente automatizado com python.\n",
    "\n",
    "A execução do código está sendo em uma máquina com sistema operacional **Linux.** Ao utilizar a função copy, da biblioteca *PyPerClip*, o mesmo apresentava o seguinte erro: **\"QXcbClipboard::setMimeData: Cannot set X11 selection owner\"**. Foi observado que no so Linux não era possível copiar um texto para a área de transferência. A execução apresentava que não era possível definir o modo de área de transferência do proprietário da seleção, recurso de so para armazenamento de pequenas quantidades de dados para transferência entre documentos ou aplicativo. Com isso, tivemos que adotar uma outra biblioteca para contornar esses problemas. \n",
    "\n",
    "A primeira tentativa seria realizar a escrita através do comando write, da biblioteca pyautogui, mas apresentou erros de escrita em caracteres especiais. Com isso, foi adotado o uso da classe [Keyboard](https://pynput.readthedocs.io/en/latest/keyboard.html), da biblioteca [pynput](https://pynput.readthedocs.io/en/latest/index.html). Essa classe assume o controle total do seu teclado da máquina, com a possibilidade de simular a escrita, sem a alteração com os caracteres especiais do teclado."
   ]
  },
  {
   "cell_type": "code",
   "execution_count": 6,
   "metadata": {},
   "outputs": [],
   "source": [
    "#!pip install pynput\n",
    "from pynput.keyboard import Controller"
   ]
  },
  {
   "cell_type": "code",
   "execution_count": 7,
   "metadata": {},
   "outputs": [],
   "source": [
    "# Abrindo uma nova aba e acessando o gmail\n",
    "pyautogui.hotkey('ctrl', 't')\n",
    "pyautogui.click(x = largura * 0.354, y = 768 * 0.0625)\n",
    "pyautogui.write(\"https://mail.google.com/mail/u/0/#inbox\", interval=0.08)\n",
    "pyautogui.press(\"enter\")\n",
    "\n",
    "# esperando a pagina carregar e clicando no botao escrever\n",
    "time.sleep(10)\n",
    "pyautogui.click(x = largura * 0.05, y = altura * 0.225)\n",
    "\n",
    "# preenchendo destinatario, assunto \n",
    "pyautogui.write('gerente-teste@outlook.com')\n",
    "pyautogui.press('tab', presses=2)\n",
    "time.sleep(1)\n",
    "keyboard = Controller()\n",
    "keyboard.type('Informação Anual da Companhia') #pyautogui.copy('Informação Anual da Companhia', interval=0.08) -> pyautogui.hotkey('ctrl', 'v')\n",
    "pyautogui.press('tab')\n",
    "time.sleep(2)\n",
    "\n",
    "# escrevendo mensagem do corpo do email\n",
    "texto = f'''\n",
    "    Prezadxs, bom dia!\n",
    "    \n",
    "    Nosso ano foi um espetáculo. Vendemos um total de {quantidade} produtos em nosso estoque, separados nas diversas lojas localizadas nos shoppings da região.\n",
    "    O faturamento total anual foi de R$ {faturamento:,.2f}.\n",
    "    \n",
    "    Atenciosamente,\n",
    "    \n",
    "    Guirra Datatec.\n",
    "'''\n",
    "\n",
    "# escrevendo automaticamente\n",
    "keyboard.type(texto) # ou pyperclip.copy(texto) -> pyautogui.hotkey('ctrl', 'v')\n",
    "\n",
    "# enviando email\n",
    "pyautogui.hotkey('ctrl', 'enter')"
   ]
  }
 ],
 "metadata": {
  "kernelspec": {
   "display_name": "Python 3",
   "language": "python",
   "name": "python3"
  },
  "language_info": {
   "codemirror_mode": {
    "name": "ipython",
    "version": 3
   },
   "file_extension": ".py",
   "mimetype": "text/x-python",
   "name": "python",
   "nbconvert_exporter": "python",
   "pygments_lexer": "ipython3",
   "version": "3.9.7"
  }
 },
 "nbformat": 4,
 "nbformat_minor": 2
}
